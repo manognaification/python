{
  "nbformat": 4,
  "nbformat_minor": 0,
  "metadata": {
    "colab": {
      "name": "26-12-19.ipynb",
      "provenance": [],
      "collapsed_sections": [],
      "include_colab_link": true
    },
    "kernelspec": {
      "name": "python3",
      "display_name": "Python 3"
    }
  },
  "cells": [
    {
      "cell_type": "markdown",
      "metadata": {
        "id": "view-in-github",
        "colab_type": "text"
      },
      "source": [
        "<a href=\"https://colab.research.google.com/github/manognaification/python/blob/master/26_12_19.ipynb\" target=\"_parent\"><img src=\"https://colab.research.google.com/assets/colab-badge.svg\" alt=\"Open In Colab\"/></a>"
      ]
    },
    {
      "cell_type": "code",
      "metadata": {
        "id": "V4eaWZOfY7aS",
        "colab_type": "code",
        "colab": {}
      },
      "source": [
        ""
      ],
      "execution_count": 0,
      "outputs": []
    },
    {
      "cell_type": "markdown",
      "metadata": {
        "id": "Ua1Jm37zY8oJ",
        "colab_type": "text"
      },
      "source": [
        "# Find large number of given 3 inputs"
      ]
    },
    {
      "cell_type": "code",
      "metadata": {
        "id": "x788CQShZE9H",
        "colab_type": "code",
        "colab": {
          "base_uri": "https://localhost:8080/",
          "height": 85
        },
        "outputId": "1708e419-9902-45fa-f3ab-a566032f0818"
      },
      "source": [
        "a=int(input(\"enter a value\"))\n",
        "b=int(input(\"enter b value\"))\n",
        "c=int(input(\"enter c value\"))\n",
        "if(a>b  and a>c):\n",
        "  print(\"a is largest\")\n",
        "elif(b>c and b>a):\n",
        "  print(\"b is largest\")\n",
        "else:\n",
        "  print(\"c is largest\")\n",
        "\n"
      ],
      "execution_count": 4,
      "outputs": [
        {
          "output_type": "stream",
          "text": [
            "enter a value10\n",
            "enter b value11\n",
            "enter c value12\n",
            "c is largest\n"
          ],
          "name": "stdout"
        }
      ]
    },
    {
      "cell_type": "markdown",
      "metadata": {
        "id": "WyXi_lUtbSrc",
        "colab_type": "text"
      },
      "source": [
        "# while statements\n",
        "## syntax\n",
        "#### while boolean_condition:<br>\n",
        "                      statements<br>\n",
        "                      Increment/Decrement <br>"
      ]
    },
    {
      "cell_type": "code",
      "metadata": {
        "id": "6tuqEr9MbyJ-",
        "colab_type": "code",
        "colab": {}
      },
      "source": [
        ""
      ],
      "execution_count": 0,
      "outputs": []
    }
  ]
}