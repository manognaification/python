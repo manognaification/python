{
  "nbformat": 4,
  "nbformat_minor": 0,
  "metadata": {
    "colab": {
      "name": "26-12-19.ipynb",
      "provenance": [],
      "collapsed_sections": [],
      "include_colab_link": true
    },
    "kernelspec": {
      "name": "python3",
      "display_name": "Python 3"
    }
  },
  "cells": [
    {
      "cell_type": "markdown",
      "metadata": {
        "id": "view-in-github",
        "colab_type": "text"
      },
      "source": [
        "<a href=\"https://colab.research.google.com/github/manognaification/python/blob/master/26_12_19.ipynb\" target=\"_parent\"><img src=\"https://colab.research.google.com/assets/colab-badge.svg\" alt=\"Open In Colab\"/></a>"
      ]
    },
    {
      "cell_type": "markdown",
      "metadata": {
        "id": "Ua1Jm37zY8oJ",
        "colab_type": "text"
      },
      "source": [
        "# Find large number of given 3 inputs"
      ]
    },
    {
      "cell_type": "code",
      "metadata": {
        "id": "x788CQShZE9H",
        "colab_type": "code",
        "outputId": "1708e419-9902-45fa-f3ab-a566032f0818",
        "colab": {
          "base_uri": "https://localhost:8080/",
          "height": 85
        }
      },
      "source": [
        "a=int(input(\"enter a value\"))\n",
        "b=int(input(\"enter b value\"))\n",
        "c=int(input(\"enter c value\"))\n",
        "if(a>b  and a>c):\n",
        "  print(\"a is largest\")\n",
        "elif(b>c and b>a):\n",
        "  print(\"b is largest\")\n",
        "else:\n",
        "  print(\"c is largest\")\n",
        "\n"
      ],
      "execution_count": 0,
      "outputs": [
        {
          "output_type": "stream",
          "text": [
            "enter a value10\n",
            "enter b value11\n",
            "enter c value12\n",
            "c is largest\n"
          ],
          "name": "stdout"
        }
      ]
    },
    {
      "cell_type": "markdown",
      "metadata": {
        "id": "WyXi_lUtbSrc",
        "colab_type": "text"
      },
      "source": [
        "# while statements\n",
        "## syntax\n",
        "#### while boolean_condition:<br>\n",
        "                      statements<br>\n",
        "                      Increment/Decrement <br>"
      ]
    },
    {
      "cell_type": "code",
      "metadata": {
        "id": "6tuqEr9MbyJ-",
        "colab_type": "code",
        "outputId": "30295c72-3474-4db9-aa7a-6ff36905b8e0",
        "colab": {
          "base_uri": "https://localhost:8080/",
          "height": 102
        }
      },
      "source": [
        "x=0\n",
        "while x<5:\n",
        "  print(\"gitam\")\n",
        "  x=x+1\n"
      ],
      "execution_count": 0,
      "outputs": [
        {
          "output_type": "stream",
          "text": [
            "gitam\n",
            "gitam\n",
            "gitam\n",
            "gitam\n",
            "gitam\n"
          ],
          "name": "stdout"
        }
      ]
    },
    {
      "cell_type": "markdown",
      "metadata": {
        "id": "ENil3nPSeTQm",
        "colab_type": "text"
      },
      "source": [
        "# Print n natural numbers using while loop\n",
        "# input:10\n",
        "# output:1 2 3 4 5 6 7 8 9 10"
      ]
    },
    {
      "cell_type": "code",
      "metadata": {
        "id": "MJHSF1Kte0gu",
        "colab_type": "code",
        "outputId": "3ae6f58f-bc71-493c-eb74-7c5ead00928c",
        "colab": {
          "base_uri": "https://localhost:8080/",
          "height": 51
        }
      },
      "source": [
        "n=int(input(\"enter a number\"))\n",
        "i=0\n",
        "while(i<n):\n",
        "  i=i+1\n",
        "  print(i,end=' ')"
      ],
      "execution_count": 0,
      "outputs": [
        {
          "output_type": "stream",
          "text": [
            "enter a number10\n",
            "1 2 3 4 5 6 7 8 9 10 "
          ],
          "name": "stdout"
        }
      ]
    },
    {
      "cell_type": "markdown",
      "metadata": {
        "id": "cUmfdFr8gmat",
        "colab_type": "text"
      },
      "source": [
        "# add only even numbers 1 to n\n",
        "# input:10\n",
        "#output:30(2+4+6+8+10)"
      ]
    },
    {
      "cell_type": "code",
      "metadata": {
        "colab_type": "code",
        "outputId": "199dac65-15b8-4b85-e1d4-388d4f50908c",
        "id": "1GDYtKg7kObU",
        "colab": {
          "base_uri": "https://localhost:8080/",
          "height": 51
        }
      },
      "source": [
        "n=int(input(\"enter a number\"))\n",
        "sum=0\n",
        "i=1\n",
        "while(i<=n):\n",
        "       if i%2==0:\n",
        "           sum=sum+i\n",
        "       i=i+1\n",
        "print(sum)"
      ],
      "execution_count": 0,
      "outputs": [
        {
          "output_type": "stream",
          "text": [
            "enter a number10\n",
            "30\n"
          ],
          "name": "stdout"
        }
      ]
    },
    {
      "cell_type": "markdown",
      "metadata": {
        "id": "dlnH_5UBmCBA",
        "colab_type": "text"
      },
      "source": [
        "# Palindrome\n",
        "# input:123\n",
        "# output:321 "
      ]
    },
    {
      "cell_type": "code",
      "metadata": {
        "id": "fAG5loS7ku59",
        "colab_type": "code",
        "outputId": "04d9df11-f550-444a-8f23-a389a56aab8b",
        "colab": {
          "base_uri": "https://localhost:8080/",
          "height": 51
        }
      },
      "source": [
        "n=int(input(\"enter a number\"))\n",
        "while n!=0:\n",
        "  r=n%10\n",
        "  print(r,end=' ')\n",
        "  n=n//10"
      ],
      "execution_count": 0,
      "outputs": [
        {
          "output_type": "stream",
          "text": [
            "enter a number123\n",
            "3 2 1 "
          ],
          "name": "stdout"
        }
      ]
    },
    {
      "cell_type": "markdown",
      "metadata": {
        "id": "Q-3XcIRrmP4e",
        "colab_type": "text"
      },
      "source": [
        "# Functional programming\n",
        "- simple\n",
        "- Easy read\n",
        "- Lengthy program into sub program\n",
        "## syntax:\n",
        "      def nameofthefunction<parameters>:\n",
        "             statements\n",
        "              return\n"
      ]
    },
    {
      "cell_type": "markdown",
      "metadata": {
        "id": "-Hy-prHQpgTi",
        "colab_type": "text"
      },
      "source": [
        "# add even digits of a given number\n",
        "# input:1234\n",
        "# output:6"
      ]
    },
    {
      "cell_type": "code",
      "metadata": {
        "id": "hxRlQgcanVH-",
        "colab_type": "code",
        "outputId": "2b71ddf8-9a74-47de-a216-72a7683f3eff",
        "colab": {
          "base_uri": "https://localhost:8080/",
          "height": 34
        }
      },
      "source": [
        "def addevendigits(n):\n",
        "      sum=0\n",
        "      while n!=0:\n",
        "            r=n%10\n",
        "            if r%2==0:\n",
        "              sum=sum+r\n",
        "            n=n//10\n",
        "      return sum\n",
        "addevendigits(1234)"
      ],
      "execution_count": 0,
      "outputs": [
        {
          "output_type": "execute_result",
          "data": {
            "text/plain": [
              "6"
            ]
          },
          "metadata": {
            "tags": []
          },
          "execution_count": 46
        }
      ]
    },
    {
      "cell_type": "markdown",
      "metadata": {
        "id": "dxrhCGEeqxTM",
        "colab_type": "text"
      },
      "source": [
        "# read input\n",
        "# input:19528\n",
        "# output:9"
      ]
    },
    {
      "cell_type": "markdown",
      "metadata": {
        "id": "CtN27maprA13",
        "colab_type": "text"
      },
      "source": [
        "#input:123\n",
        "#output:321"
      ]
    },
    {
      "cell_type": "code",
      "metadata": {
        "id": "uJP0wvU1wzW2",
        "colab_type": "code",
        "outputId": "a29b9549-9c93-49e6-f609-0eb4e2f485ae",
        "colab": {
          "base_uri": "https://localhost:8080/",
          "height": 34
        }
      },
      "source": [
        "def large(n):\n",
        "  l=0\n",
        "  while n!=0:\n",
        "      r=n%10\n",
        "      if r>l:\n",
        "        l=r\n",
        "      n=n//10\n",
        "  return l\n",
        "\n",
        "large(1359628)\n",
        "        "
      ],
      "execution_count": 87,
      "outputs": [
        {
          "output_type": "execute_result",
          "data": {
            "text/plain": [
              "9"
            ]
          },
          "metadata": {
            "tags": []
          },
          "execution_count": 87
        }
      ]
    },
    {
      "cell_type": "code",
      "metadata": {
        "colab_type": "code",
        "outputId": "44214501-f6a2-4368-ffb1-b5bb1a649816",
        "id": "nZsdbFLsrqWY",
        "colab": {
          "base_uri": "https://localhost:8080/",
          "height": 34
        }
      },
      "source": [
        "def rev(n):\n",
        "  while n!=0:\n",
        "      r=n%10\n",
        "      print(r,end=' ')\n",
        "      n=n//10\n",
        "(rev(123))"
      ],
      "execution_count": 0,
      "outputs": [
        {
          "output_type": "stream",
          "text": [
            "3 2 1 "
          ],
          "name": "stdout"
        }
      ]
    },
    {
      "cell_type": "markdown",
      "metadata": {
        "id": "hgOtb0MNzZSp",
        "colab_type": "text"
      },
      "source": [
        "# palindrome\n",
        "# input:121----121->yes\n"
      ]
    },
    {
      "cell_type": "code",
      "metadata": {
        "id": "fVEk6J3ZzlFw",
        "colab_type": "code",
        "colab": {
          "base_uri": "https://localhost:8080/",
          "height": 51
        },
        "outputId": "10ef11a8-e8d1-466b-d36c-71bade590c5e"
      },
      "source": [
        "def palindrome(n):\n",
        "  rev=0\n",
        "  buffer=n\n",
        "  while n!=0:\n",
        "    r=n%10\n",
        "    rev=rev*10+r\n",
        "    n=n//10\n",
        "  if buffer==rev:\n",
        "    return \"yes\"\n",
        "  else:\n",
        "    return \"no\"\n",
        "print(palindrome(121))\n",
        "print(palindrome(129))"
      ],
      "execution_count": 92,
      "outputs": [
        {
          "output_type": "stream",
          "text": [
            "yes\n",
            "no\n"
          ],
          "name": "stdout"
        }
      ]
    },
    {
      "cell_type": "code",
      "metadata": {
        "id": "v0msXRmw03Ug",
        "colab_type": "code",
        "colab": {
          "base_uri": "https://localhost:8080/",
          "height": 34
        },
        "outputId": "3f331b91-0ee1-42ad-b50b-0cffaf522883"
      },
      "source": [
        "def natural(n):\n",
        "      for i in range(1,n+1):\n",
        "            print(i,end=' ')\n",
        "natural(10)"
      ],
      "execution_count": 104,
      "outputs": [
        {
          "output_type": "stream",
          "text": [
            "1 2 3 4 5 6 7 8 9 10 "
          ],
          "name": "stdout"
        }
      ]
    },
    {
      "cell_type": "code",
      "metadata": {
        "id": "kzukBS192_IR",
        "colab_type": "code",
        "colab": {
          "base_uri": "https://localhost:8080/",
          "height": 34
        },
        "outputId": "ce8c33d5-80d9-4984-9b0a-3d79240881b3"
      },
      "source": [
        "def natural(l,b):\n",
        "  for i in range(l,b+1):\n",
        "        print(i,end=' ')\n",
        "natural(11,25)"
      ],
      "execution_count": 110,
      "outputs": [
        {
          "output_type": "stream",
          "text": [
            "11 12 13 14 15 16 17 18 19 20 21 22 23 24 25 "
          ],
          "name": "stdout"
        }
      ]
    },
    {
      "cell_type": "code",
      "metadata": {
        "id": "0f9mUbhD3x4v",
        "colab_type": "code",
        "colab": {
          "base_uri": "https://localhost:8080/",
          "height": 34
        },
        "outputId": "2cfff4f5-0db3-4f12-b376-3a0c8f1776ea"
      },
      "source": [
        "def revrange(start,end):\n",
        "  for i in range(end,start-1,-1):\n",
        "        print(i,end='  ')\n",
        "revrange(1,10)"
      ],
      "execution_count": 114,
      "outputs": [
        {
          "output_type": "stream",
          "text": [
            "10  9  8  7  6  5  4  3  2  1  "
          ],
          "name": "stdout"
        }
      ]
    },
    {
      "cell_type": "markdown",
      "metadata": {
        "id": "HQNC_Ha-7NAn",
        "colab_type": "text"
      },
      "source": [
        "# Data structures types:\n",
        "- List\n",
        "- tuple\n",
        "- dictionary\n"
      ]
    },
    {
      "cell_type": "markdown",
      "metadata": {
        "id": "_mclqKZD7htR",
        "colab_type": "text"
      },
      "source": [
        "# List:\n",
        "It is the one of data sturcture in python\n",
        "- crud operations\n",
        "- c-create\n",
        "- r-read\n",
        "- u-update\n",
        "- d-delete\n",
        "- list values can be changed or mutable\n",
        "# Examples:\n",
        "- list =[1,2,3,4]"
      ]
    },
    {
      "cell_type": "code",
      "metadata": {
        "id": "xPjiVdvh9LZp",
        "colab_type": "code",
        "colab": {
          "base_uri": "https://localhost:8080/",
          "height": 68
        },
        "outputId": "8efe1029-cc94-40b8-bf5a-7f608d74ed05"
      },
      "source": [
        "li=[1,2,3,4,5]\n",
        "print(li)\n",
        "print(li[3])\n",
        "print(li[-3])"
      ],
      "execution_count": 125,
      "outputs": [
        {
          "output_type": "stream",
          "text": [
            "[1, 2, 3, 4, 5]\n",
            "4\n",
            "3\n"
          ],
          "name": "stdout"
        }
      ]
    }
  ]
}