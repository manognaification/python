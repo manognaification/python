{
  "nbformat": 4,
  "nbformat_minor": 0,
  "metadata": {
    "colab": {
      "name": "28-12-19.ipynb",
      "provenance": [],
      "include_colab_link": true
    },
    "kernelspec": {
      "name": "python3",
      "display_name": "Python 3"
    }
  },
  "cells": [
    {
      "cell_type": "markdown",
      "metadata": {
        "id": "view-in-github",
        "colab_type": "text"
      },
      "source": [
        "<a href=\"https://colab.research.google.com/github/manognaification/python/blob/master/28_12_19.ipynb\" target=\"_parent\"><img src=\"https://colab.research.google.com/assets/colab-badge.svg\" alt=\"Open In Colab\"/></a>"
      ]
    },
    {
      "cell_type": "markdown",
      "metadata": {
        "id": "0nXQhz-73TZG",
        "colab_type": "text"
      },
      "source": [
        "# 1.Input str=\"pynative\"\n",
        "# output='p','n','t','v'\n",
        "- using function"
      ]
    },
    {
      "cell_type": "markdown",
      "metadata": {
        "id": "N3h9TDAQ4Oze",
        "colab_type": "text"
      },
      "source": [
        "# 2.Given list of integers,return true if first and last number is same"
      ]
    },
    {
      "cell_type": "markdown",
      "metadata": {
        "id": "_Ml3d1ex45i_",
        "colab_type": "text"
      },
      "source": [
        "# 3.Print the pattern\n",
        "  - 1\n",
        "  - 2 2\n",
        "  - 3 3 3\n",
        "  - 4 4 4 4\n",
        "  -5 5 5 5 5"
      ]
    },
    {
      "cell_type": "code",
      "metadata": {
        "id": "M3MX00m2_JuH",
        "colab_type": "code",
        "colab": {
          "base_uri": "https://localhost:8080/",
          "height": 34
        },
        "outputId": "b601abc2-79bb-4840-eb79-0cff8f09b1d2"
      },
      "source": [
        "def string(n):\n",
        "  li=list(n)\n",
        "  li=li[::2]\n",
        "  print(li)\n",
        "string(\"pynative\")"
      ],
      "execution_count": 33,
      "outputs": [
        {
          "output_type": "stream",
          "text": [
            "['p', 'n', 't', 'v']\n"
          ],
          "name": "stdout"
        }
      ]
    },
    {
      "cell_type": "code",
      "metadata": {
        "id": "q7MZzLFa7DK9",
        "colab_type": "code",
        "colab": {
          "base_uri": "https://localhost:8080/",
          "height": 50
        },
        "outputId": "b5ec86ac-f472-4d33-9e99-da7e91ab5bc3"
      },
      "source": [
        "def fl(li):\n",
        "  if li[0]==li[-1]:\n",
        "    return True\n",
        "  else:\n",
        "    return False\n",
        "li=[1,0,2,1]\n",
        "la=[1,2,3,4]\n",
        "print(fl(li))\n",
        "print(fl(la))"
      ],
      "execution_count": 40,
      "outputs": [
        {
          "output_type": "stream",
          "text": [
            "True\n",
            "False\n"
          ],
          "name": "stdout"
        }
      ]
    },
    {
      "cell_type": "code",
      "metadata": {
        "id": "HkLj0SS23EJE",
        "colab_type": "code",
        "colab": {
          "base_uri": "https://localhost:8080/",
          "height": 218
        },
        "outputId": "3329e625-91b7-455d-8fe0-e4b65f262b91"
      },
      "source": [
        "for num in range(6):\n",
        "    for i in range(num):\n",
        "        print (num, end=\" \")\n",
        "    print(\"\\n\")"
      ],
      "execution_count": 41,
      "outputs": [
        {
          "output_type": "stream",
          "text": [
            "\n",
            "\n",
            "1 \n",
            "\n",
            "2 2 \n",
            "\n",
            "3 3 3 \n",
            "\n",
            "4 4 4 4 \n",
            "\n",
            "5 5 5 5 5 \n",
            "\n"
          ],
          "name": "stdout"
        }
      ]
    },
    {
      "cell_type": "code",
      "metadata": {
        "id": "rrGyh0yXDJm5",
        "colab_type": "code",
        "colab": {
          "base_uri": "https://localhost:8080/",
          "height": 118
        },
        "outputId": "c22caf6f-d048-4611-fa1b-5bb8eb978d7e"
      },
      "source": [
        "a=input(\"enter your name\")\n",
        "b=int(input(\"enter your age\"))\n",
        "print(a)\n",
        "print(b)\n",
        "print((2019-19)+100)"
      ],
      "execution_count": 54,
      "outputs": [
        {
          "output_type": "stream",
          "text": [
            "enter your namemanu\n",
            "enter your age19\n",
            "manu\n",
            "19\n",
            "\n",
            "2100\n"
          ],
          "name": "stdout"
        }
      ]
    },
    {
      "cell_type": "code",
      "metadata": {
        "id": "GKF_BK98HgAa",
        "colab_type": "code",
        "colab": {}
      },
      "source": [
        ""
      ],
      "execution_count": 0,
      "outputs": []
    }
  ]
}