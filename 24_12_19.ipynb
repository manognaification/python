{
  "nbformat": 4,
  "nbformat_minor": 0,
  "metadata": {
    "colab": {
      "name": "24-12-19.ipynb",
      "provenance": [],
      "include_colab_link": true
    },
    "kernelspec": {
      "name": "python3",
      "display_name": "Python 3"
    }
  },
  "cells": [
    {
      "cell_type": "markdown",
      "metadata": {
        "id": "view-in-github",
        "colab_type": "text"
      },
      "source": [
        "<a href=\"https://colab.research.google.com/github/manognaification/python/blob/master/24_12_19.ipynb\" target=\"_parent\"><img src=\"https://colab.research.google.com/assets/colab-badge.svg\" alt=\"Open In Colab\"/></a>"
      ]
    },
    {
      "cell_type": "markdown",
      "metadata": {
        "id": "jjYBQqxMGWEw",
        "colab_type": "text"
      },
      "source": [
        "#Mark down\n",
        "##Mark down\n",
        "###Mark down\n",
        "####Mark down"
      ]
    },
    {
      "cell_type": "markdown",
      "metadata": {
        "id": "rasx18a3MwSS",
        "colab_type": "text"
      },
      "source": [
        "#Python\n",
        "- Python is easy to learn\n",
        "- Python is more popular and demand\n",
        "- Python used in data science\n"
      ]
    },
    {
      "cell_type": "code",
      "metadata": {
        "id": "zSrCMVAaMH0e",
        "colab_type": "code",
        "outputId": "3e7dbc42-7b0a-400e-a574-43d2ce8b65ae",
        "colab": {
          "base_uri": "https://localhost:8080/",
          "height": 34
        }
      },
      "source": [
        "print(\"hello world\")"
      ],
      "execution_count": 0,
      "outputs": [
        {
          "output_type": "stream",
          "text": [
            "hello world\n"
          ],
          "name": "stdout"
        }
      ]
    },
    {
      "cell_type": "code",
      "metadata": {
        "id": "z1c79JV2NUHg",
        "colab_type": "code",
        "outputId": "db51d0fc-90be-477c-de70-080c4c25fb17",
        "colab": {
          "base_uri": "https://localhost:8080/",
          "height": 34
        }
      },
      "source": [
        "print(\"hello,Hyderabad\")"
      ],
      "execution_count": 0,
      "outputs": [
        {
          "output_type": "stream",
          "text": [
            "hello,Hyderabad\n"
          ],
          "name": "stdout"
        }
      ]
    },
    {
      "cell_type": "markdown",
      "metadata": {
        "id": "ZFoZDBM-N1lH",
        "colab_type": "text"
      },
      "source": [
        "#Assignment"
      ]
    },
    {
      "cell_type": "code",
      "metadata": {
        "id": "y0eZCCq2N5FX",
        "colab_type": "code",
        "outputId": "807f9bd1-681f-4cc4-9b44-56107b7542bb",
        "colab": {
          "base_uri": "https://localhost:8080/",
          "height": 34
        }
      },
      "source": [
        "x=12\n",
        "y=18\n",
        "print(x,y)"
      ],
      "execution_count": 0,
      "outputs": [
        {
          "output_type": "stream",
          "text": [
            "12 18\n"
          ],
          "name": "stdout"
        }
      ]
    },
    {
      "cell_type": "code",
      "metadata": {
        "id": "f8kOUW-QOPDg",
        "colab_type": "code",
        "outputId": "2b0e456d-9f39-4201-f83b-f345267be4e2",
        "colab": {
          "base_uri": "https://localhost:8080/",
          "height": 34
        }
      },
      "source": [
        "a=b=c=20\n",
        "print(a,b,c)"
      ],
      "execution_count": 0,
      "outputs": [
        {
          "output_type": "stream",
          "text": [
            "20 20 20\n"
          ],
          "name": "stdout"
        }
      ]
    },
    {
      "cell_type": "code",
      "metadata": {
        "id": "YTC09_n9O6Yo",
        "colab_type": "code",
        "outputId": "61b37a0a-5d4f-4902-ab44-3a38c63e39ff",
        "colab": {
          "base_uri": "https://localhost:8080/",
          "height": 34
        }
      },
      "source": [
        "a1,b1,c1=100,200,300\n",
        "print(a1,b1,c1)"
      ],
      "execution_count": 0,
      "outputs": [
        {
          "output_type": "stream",
          "text": [
            "100 200 300\n"
          ],
          "name": "stdout"
        }
      ]
    },
    {
      "cell_type": "markdown",
      "metadata": {
        "id": "h4TbxWmoPSMw",
        "colab_type": "text"
      },
      "source": [
        "#Data types and conversion\n",
        "- int\n",
        "- string \n",
        "- complex\n",
        "- float\n",
        "- boolean"
      ]
    },
    {
      "cell_type": "code",
      "metadata": {
        "id": "nYtjxCRgPmJv",
        "colab_type": "code",
        "outputId": "2f736ca1-8573-44bb-b41d-0761bcf90f92",
        "colab": {
          "base_uri": "https://localhost:8080/",
          "height": 68
        }
      },
      "source": [
        "x=10\n",
        "y=12.56\n",
        "z=3+5j\n",
        "print(type(x))\n",
        "print(type(y))\n",
        "print(type(z))"
      ],
      "execution_count": 0,
      "outputs": [
        {
          "output_type": "stream",
          "text": [
            "<class 'int'>\n",
            "<class 'float'>\n",
            "<class 'complex'>\n"
          ],
          "name": "stdout"
        }
      ]
    },
    {
      "cell_type": "code",
      "metadata": {
        "id": "skqAsckeQt7i",
        "colab_type": "code",
        "outputId": "21296b53-50a2-4db8-c8ee-b71888b64413",
        "colab": {
          "base_uri": "https://localhost:8080/",
          "height": 34
        }
      },
      "source": [
        "x=4\n",
        "y=10\n",
        "x<y"
      ],
      "execution_count": 0,
      "outputs": [
        {
          "output_type": "execute_result",
          "data": {
            "text/plain": [
              "True"
            ]
          },
          "metadata": {
            "tags": []
          },
          "execution_count": 12
        }
      ]
    },
    {
      "cell_type": "code",
      "metadata": {
        "id": "jp0VKifuRJV4",
        "colab_type": "code",
        "outputId": "f1ce6eff-5f06-4b5c-f394-3c4ee7e7406d",
        "colab": {
          "base_uri": "https://localhost:8080/",
          "height": 51
        }
      },
      "source": [
        "s1=\"abc\"\n",
        "s2=\"xyz\"\n",
        "print(type(s1))\n",
        "print(type(s2))"
      ],
      "execution_count": 0,
      "outputs": [
        {
          "output_type": "stream",
          "text": [
            "<class 'str'>\n",
            "<class 'str'>\n"
          ],
          "name": "stdout"
        }
      ]
    },
    {
      "cell_type": "code",
      "metadata": {
        "id": "uKaBdEq5R1IZ",
        "colab_type": "code",
        "outputId": "53f8c9e5-af18-4aa9-c02c-f1c11ce0b357",
        "colab": {
          "base_uri": "https://localhost:8080/",
          "height": 34
        }
      },
      "source": [
        "a=123\n",
        "print(type(a))"
      ],
      "execution_count": 0,
      "outputs": [
        {
          "output_type": "stream",
          "text": [
            "<class 'int'>\n"
          ],
          "name": "stdout"
        }
      ]
    },
    {
      "cell_type": "code",
      "metadata": {
        "id": "xGsASBw6SGx3",
        "colab_type": "code",
        "outputId": "74cbe27e-77a8-433e-d44b-1b5a18a0a35f",
        "colab": {
          "base_uri": "https://localhost:8080/",
          "height": 68
        }
      },
      "source": [
        "i=100\n",
        "print(type(i))\n",
        "s1=str(i)\n",
        "print(type(s1))\n",
        "f=float(i)\n",
        "print(type(f))"
      ],
      "execution_count": 0,
      "outputs": [
        {
          "output_type": "stream",
          "text": [
            "<class 'int'>\n",
            "<class 'str'>\n",
            "<class 'float'>\n"
          ],
          "name": "stdout"
        }
      ]
    },
    {
      "cell_type": "code",
      "metadata": {
        "id": "9aCce7orTHF4",
        "colab_type": "code",
        "outputId": "060ac189-cbe2-4d4e-ba83-33af709df225",
        "colab": {
          "base_uri": "https://localhost:8080/",
          "height": 34
        }
      },
      "source": [
        "c=complex(3,5)\n",
        "print(c)"
      ],
      "execution_count": 0,
      "outputs": [
        {
          "output_type": "stream",
          "text": [
            "(3+5j)\n"
          ],
          "name": "stdout"
        }
      ]
    },
    {
      "cell_type": "markdown",
      "metadata": {
        "id": "hTXd8IGhTgO4",
        "colab_type": "text"
      },
      "source": [
        "# Reading a value --- Input function"
      ]
    },
    {
      "cell_type": "code",
      "metadata": {
        "id": "FRXrq1V_Tq2w",
        "colab_type": "code",
        "outputId": "fc234f43-c70c-4b8d-b763-8480f80f50d4",
        "colab": {
          "base_uri": "https://localhost:8080/",
          "height": 68
        }
      },
      "source": [
        "s=input(\"enter name\")\n",
        "print(s)\n",
        "print(type(s))"
      ],
      "execution_count": 0,
      "outputs": [
        {
          "output_type": "stream",
          "text": [
            "enter name manu\n",
            " manu\n",
            "<class 'str'>\n"
          ],
          "name": "stdout"
        }
      ]
    },
    {
      "cell_type": "code",
      "metadata": {
        "id": "njfDTrz5UPCB",
        "colab_type": "code",
        "outputId": "e74e8eb6-01e8-4cfc-9dad-8063a7da0872",
        "colab": {
          "base_uri": "https://localhost:8080/",
          "height": 68
        }
      },
      "source": [
        "a=int(input(\"enter age\"))\n",
        "print(a)\n",
        "print(type(a))"
      ],
      "execution_count": 0,
      "outputs": [
        {
          "output_type": "stream",
          "text": [
            "enter age  20\n",
            "20\n",
            "<class 'int'>\n"
          ],
          "name": "stdout"
        }
      ]
    },
    {
      "cell_type": "markdown",
      "metadata": {
        "id": "K9hYiWtUU2Zp",
        "colab_type": "text"
      },
      "source": [
        "# Operators\n",
        "- Operator is a symbol used to perform a specific kind of operations.\n"
      ]
    },
    {
      "cell_type": "markdown",
      "metadata": {
        "id": "BE4bME9zVSaZ",
        "colab_type": "text"
      },
      "source": [
        "# Arithematic operators\n",
        "- +\n",
        "- -\n",
        "- *\n",
        "- /\n",
        "- **\n",
        "- %\n",
        "- //"
      ]
    },
    {
      "cell_type": "code",
      "metadata": {
        "id": "8slh9fn6Vt_j",
        "colab_type": "code",
        "outputId": "d7324f53-8559-42c9-f944-a04367af41b5",
        "colab": {
          "base_uri": "https://localhost:8080/",
          "height": 136
        }
      },
      "source": [
        "n1=123\n",
        "print(n1+10)\n",
        "print(n1-10)\n",
        "print(n1*10)\n",
        "print(n1/10)\n",
        "print(n1**10)\n",
        "print(n1//10)\n",
        "print(n1%10)"
      ],
      "execution_count": 0,
      "outputs": [
        {
          "output_type": "stream",
          "text": [
            "133\n",
            "113\n",
            "1230\n",
            "12.3\n",
            "792594609605189126649\n",
            "12\n",
            "3\n"
          ],
          "name": "stdout"
        }
      ]
    },
    {
      "cell_type": "markdown",
      "metadata": {
        "id": "DslgRcPiWof7",
        "colab_type": "text"
      },
      "source": [
        "# Precedence of  arth operators\n",
        "- Parthensis\n",
        "- Power\n",
        "- Multiplication\n",
        "- Addition"
      ]
    },
    {
      "cell_type": "code",
      "metadata": {
        "id": "LK2_KEA6W6-Z",
        "colab_type": "code",
        "outputId": "83c67225-c1c2-4b97-8960-90271f630fd6",
        "colab": {
          "base_uri": "https://localhost:8080/",
          "height": 34
        }
      },
      "source": [
        "x=1+ 2 ** 3 / 4 + 5\n",
        "print(x)"
      ],
      "execution_count": 0,
      "outputs": [
        {
          "output_type": "stream",
          "text": [
            "8.0\n"
          ],
          "name": "stdout"
        }
      ]
    },
    {
      "cell_type": "code",
      "metadata": {
        "id": "b3lyPLr1YUPF",
        "colab_type": "code",
        "outputId": "839dd5e2-0624-4506-f762-5f5bf9ba380f",
        "colab": {
          "base_uri": "https://localhost:8080/",
          "height": 34
        }
      },
      "source": [
        "x=1+2 **3/4*5\n",
        "print(x)"
      ],
      "execution_count": 0,
      "outputs": [
        {
          "output_type": "stream",
          "text": [
            "11.0\n"
          ],
          "name": "stdout"
        }
      ]
    },
    {
      "cell_type": "markdown",
      "metadata": {
        "id": "HAIiVmeLZhbL",
        "colab_type": "text"
      },
      "source": [
        "# Relational operators\n",
        "- <,=,>,>=,<=, !=.\n"
      ]
    },
    {
      "cell_type": "code",
      "metadata": {
        "id": "oUYtA-ITaBih",
        "colab_type": "code",
        "outputId": "9d9af1d1-c575-4f3c-9710-77ecc508d0ff",
        "colab": {
          "base_uri": "https://localhost:8080/",
          "height": 34
        }
      },
      "source": [
        "a=10\n",
        "a1=a>15\n",
        "print(a1)"
      ],
      "execution_count": 0,
      "outputs": [
        {
          "output_type": "stream",
          "text": [
            "False\n"
          ],
          "name": "stdout"
        }
      ]
    },
    {
      "cell_type": "markdown",
      "metadata": {
        "id": "sDjHmMgraVYJ",
        "colab_type": "text"
      },
      "source": [
        "# Logical operators\n"
      ]
    },
    {
      "cell_type": "code",
      "metadata": {
        "id": "SFUYotORadQO",
        "colab_type": "code",
        "outputId": "2221a8b9-f77b-4d42-d6d3-1124e9381944",
        "colab": {
          "base_uri": "https://localhost:8080/",
          "height": 68
        }
      },
      "source": [
        "x=20\n",
        "y=30\n",
        "print(x>=10 and  x<=20)\n",
        "print(x>=10 or x<=20)\n",
        "print(not x)"
      ],
      "execution_count": 0,
      "outputs": [
        {
          "output_type": "stream",
          "text": [
            "True\n",
            "True\n",
            "False\n"
          ],
          "name": "stdout"
        }
      ]
    },
    {
      "cell_type": "markdown",
      "metadata": {
        "id": "vENeO3pNbZ2z",
        "colab_type": "text"
      },
      "source": [
        "# Membership operators"
      ]
    },
    {
      "cell_type": "code",
      "metadata": {
        "id": "8OSx7dBAbi7y",
        "colab_type": "code",
        "outputId": "3c3baa71-f78a-4103-b165-d3285b802f13",
        "colab": {
          "base_uri": "https://localhost:8080/",
          "height": 51
        }
      },
      "source": [
        "str1=\"abc\"\n",
        "print('a' in str1)\n",
        "print('a' not in str1)"
      ],
      "execution_count": 0,
      "outputs": [
        {
          "output_type": "stream",
          "text": [
            "True\n",
            "False\n"
          ],
          "name": "stdout"
        }
      ]
    },
    {
      "cell_type": "markdown",
      "metadata": {
        "id": "NA_mYpEMcKVr",
        "colab_type": "text"
      },
      "source": [
        "# Conditional statements"
      ]
    },
    {
      "cell_type": "markdown",
      "metadata": {
        "id": "A1QzJhgVcUbU",
        "colab_type": "text"
      },
      "source": [
        "## If else Statements\n",
        "### Syntax:\n",
        "#### if condition:\n",
        "> statements<br>\n",
        "#### else\n",
        "> statements"
      ]
    },
    {
      "cell_type": "code",
      "metadata": {
        "id": "TpW1-fjhdWg5",
        "colab_type": "code",
        "outputId": "8c0c68e7-15b9-48da-cbcb-54ac3e422f12",
        "colab": {
          "base_uri": "https://localhost:8080/",
          "height": 51
        }
      },
      "source": [
        "n=int(input(\"enter a number\"))\n",
        "if n%2==0:\n",
        "    print(\"even\")\n",
        "else:\n",
        "      print(\"odd\")"
      ],
      "execution_count": 0,
      "outputs": [
        {
          "output_type": "stream",
          "text": [
            "enter a number7\n",
            "odd\n"
          ],
          "name": "stdout"
        }
      ]
    },
    {
      "cell_type": "code",
      "metadata": {
        "id": "ZfCIBQZieUlb",
        "colab_type": "code",
        "outputId": "b13df5b1-df5f-40d8-c143-b6c2161d57b3",
        "colab": {
          "base_uri": "https://localhost:8080/",
          "height": 51
        }
      },
      "source": [
        "n=int(input(\"enter a number\"))\n",
        "if (n%3==0  and  n%5==0):\n",
        "    print(\"divisible\")\n",
        "else:\n",
        "        print(\"not divisible\")  "
      ],
      "execution_count": 0,
      "outputs": [
        {
          "output_type": "stream",
          "text": [
            "enter a number25\n",
            "not divisible\n"
          ],
          "name": "stdout"
        }
      ]
    },
    {
      "cell_type": "code",
      "metadata": {
        "id": "K9XEz3t6fjvr",
        "colab_type": "code",
        "outputId": "f0fc939d-3d29-44b8-896a-9c37ee962fd8",
        "colab": {
          "base_uri": "https://localhost:8080/",
          "height": 51
        }
      },
      "source": [
        "n=int(input(\"enter a number\"))\n",
        "if(n>0):\n",
        "  print(\"positive\")\n",
        "elif(n<0):\n",
        "  print(\"negative\")\n",
        "else:\n",
        "  print(\"zero\")\n",
        "\n",
        "      "
      ],
      "execution_count": 0,
      "outputs": [
        {
          "output_type": "stream",
          "text": [
            "enter a number-1\n",
            "negative\n"
          ],
          "name": "stdout"
        }
      ]
    },
    {
      "cell_type": "code",
      "metadata": {
        "id": "N2LZEyxWhHhE",
        "colab_type": "code",
        "outputId": "7df08759-6948-42bf-c358-6c6b30c1e515",
        "colab": {
          "base_uri": "https://localhost:8080/",
          "height": 51
        }
      },
      "source": [
        "n=int(input(\"enter a year\"))\n",
        "if(n%100==0 or n%400!=0 and n%4==0):\n",
        "  print(\"leap year\")\n",
        "else:\n",
        "    print(\"not leap year\")"
      ],
      "execution_count": 0,
      "outputs": [
        {
          "output_type": "stream",
          "text": [
            "enter a year2019\n",
            "not leap year\n"
          ],
          "name": "stdout"
        }
      ]
    }
  ]
}