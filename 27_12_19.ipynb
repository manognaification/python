{
  "nbformat": 4,
  "nbformat_minor": 0,
  "metadata": {
    "colab": {
      "name": "27-12-19.ipynb",
      "provenance": [],
      "include_colab_link": true
    },
    "kernelspec": {
      "name": "python3",
      "display_name": "Python 3"
    }
  },
  "cells": [
    {
      "cell_type": "markdown",
      "metadata": {
        "id": "view-in-github",
        "colab_type": "text"
      },
      "source": [
        "<a href=\"https://colab.research.google.com/github/manognaification/python/blob/master/27_12_19.ipynb\" target=\"_parent\"><img src=\"https://colab.research.google.com/assets/colab-badge.svg\" alt=\"Open In Colab\"/></a>"
      ]
    },
    {
      "cell_type": "markdown",
      "metadata": {
        "id": "pqZQA9_qfgfu",
        "colab_type": "text"
      },
      "source": [
        "# LIST EXAMPLES "
      ]
    },
    {
      "cell_type": "code",
      "metadata": {
        "id": "MYD9ruBweJ9c",
        "colab_type": "code",
        "outputId": "ec8d038a-5878-4ce4-e460-df9a0b967861",
        "colab": {
          "base_uri": "https://localhost:8080/",
          "height": 153
        }
      },
      "source": [
        "li=[\"gitam\",123,124,1329,3525,3451]\n",
        "print(li)\n",
        "print(li[1])\n",
        "print(li[2:])\n",
        "print(li[2:4])\n",
        "print(li[-1])\n",
        "print(li[-4:-1])\n",
        "print(li[::-1])\n",
        "print(li[-1::-1])"
      ],
      "execution_count": 0,
      "outputs": [
        {
          "output_type": "stream",
          "text": [
            "['gitam', 123, 124, 1329, 3525, 3451]\n",
            "123\n",
            "[124, 1329, 3525, 3451]\n",
            "[124, 1329]\n",
            "3451\n",
            "[124, 1329, 3525]\n",
            "[3451, 3525, 1329, 124, 123, 'gitam']\n",
            "[3451, 3525, 1329, 124, 123, 'gitam']\n"
          ],
          "name": "stdout"
        }
      ]
    },
    {
      "cell_type": "code",
      "metadata": {
        "id": "wxgket-6f7ta",
        "colab_type": "code",
        "outputId": "0c43c69a-d58d-4065-a7c1-f6b747442c1f",
        "colab": {
          "base_uri": "https://localhost:8080/",
          "height": 34
        }
      },
      "source": [
        "# update\n",
        "li[0]=\"manu\"\n",
        "print(li)"
      ],
      "execution_count": 0,
      "outputs": [
        {
          "output_type": "stream",
          "text": [
            "['manu', 123, 124, 1329, 3525, 3451]\n"
          ],
          "name": "stdout"
        }
      ]
    },
    {
      "cell_type": "code",
      "metadata": {
        "id": "ipSKUQhCgS0w",
        "colab_type": "code",
        "outputId": "fca983d7-7867-4446-f68e-57d90c7eb88c",
        "colab": {
          "base_uri": "https://localhost:8080/",
          "height": 34
        }
      },
      "source": [
        "# delete\n",
        "del li[3]\n",
        "print(li)"
      ],
      "execution_count": 0,
      "outputs": [
        {
          "output_type": "stream",
          "text": [
            "['manu', 123, 124, 3525, 3451]\n"
          ],
          "name": "stdout"
        }
      ]
    },
    {
      "cell_type": "code",
      "metadata": {
        "id": "cTMprfTKiKWb",
        "colab_type": "code",
        "outputId": "86cd0ea7-9190-4a7b-bdf5-9758c6ff765e",
        "colab": {
          "base_uri": "https://localhost:8080/",
          "height": 85
        }
      },
      "source": [
        "li=[1,2,3,4,5]\n",
        "print(len(li))\n",
        "print(li*2)\n",
        "print(5 in li)\n",
        "print(6 in li)"
      ],
      "execution_count": 0,
      "outputs": [
        {
          "output_type": "stream",
          "text": [
            "5\n",
            "[1, 2, 3, 4, 5, 1, 2, 3, 4, 5]\n",
            "True\n",
            "False\n"
          ],
          "name": "stdout"
        }
      ]
    },
    {
      "cell_type": "markdown",
      "metadata": {
        "id": "k-gFbcK1jF9r",
        "colab_type": "text"
      },
      "source": [
        "# Basic list functions"
      ]
    },
    {
      "cell_type": "code",
      "metadata": {
        "id": "81rifRSrjM6B",
        "colab_type": "code",
        "outputId": "86e3e979-af96-423c-c561-cebb1d1e5b0f",
        "colab": {
          "base_uri": "https://localhost:8080/",
          "height": 85
        }
      },
      "source": [
        "li=[1,2,3,4,5,6]\n",
        "print(max(li))\n",
        "print(min(li))\n",
        "print(sum(li))\n",
        "print(sum(li)/len(li))"
      ],
      "execution_count": 0,
      "outputs": [
        {
          "output_type": "stream",
          "text": [
            "6\n",
            "1\n",
            "21\n",
            "3.5\n"
          ],
          "name": "stdout"
        }
      ]
    },
    {
      "cell_type": "code",
      "metadata": {
        "id": "K7AVieAejoKC",
        "colab_type": "code",
        "outputId": "301839a4-acaf-4cd4-ca9c-160f3c7190a6",
        "colab": {
          "base_uri": "https://localhost:8080/",
          "height": 51
        }
      },
      "source": [
        "li=[1,2,3,4,5,6]\n",
        "li.append(7)\n",
        "print(li)\n",
        "li.insert(2, 14)\n",
        "print(li)"
      ],
      "execution_count": 0,
      "outputs": [
        {
          "output_type": "stream",
          "text": [
            "[1, 2, 3, 4, 5, 6, 7]\n",
            "[1, 2, 14, 3, 4, 5, 6, 7]\n"
          ],
          "name": "stdout"
        }
      ]
    },
    {
      "cell_type": "code",
      "metadata": {
        "id": "0sK522w9lY7B",
        "colab_type": "code",
        "outputId": "89de5431-5937-460c-bd12-4378f0c22989",
        "colab": {
          "base_uri": "https://localhost:8080/",
          "height": 68
        }
      },
      "source": [
        "li=[1, 2, 14, 3, 4, 5, 6, 7]\n",
        "li.sort()\n",
        "print(li)\n",
        "li.pop()\n",
        "print(li)\n",
        "li.pop(1)\n",
        "print(li)"
      ],
      "execution_count": 0,
      "outputs": [
        {
          "output_type": "stream",
          "text": [
            "[1, 2, 3, 4, 5, 6, 7, 14]\n",
            "[1, 2, 3, 4, 5, 6, 7]\n",
            "[1, 3, 4, 5, 6, 7]\n"
          ],
          "name": "stdout"
        }
      ]
    },
    {
      "cell_type": "code",
      "metadata": {
        "id": "NhSOP5Nzml1Z",
        "colab_type": "code",
        "outputId": "ce50af1a-428d-418b-9210-52c377827e16",
        "colab": {
          "base_uri": "https://localhost:8080/",
          "height": 51
        }
      },
      "source": [
        "# function to return large number from list\n",
        "def largenum(li):\n",
        "  li.sort()\n",
        "  return li[-1]\n",
        "def genriclarge(li,n):\n",
        "  li.sort()\n",
        "  return(li[-n])\n",
        "li=[19,1,87,32,21,36]\n",
        "print(largenum(li))\n",
        "print(genriclarge(li,3))"
      ],
      "execution_count": 0,
      "outputs": [
        {
          "output_type": "stream",
          "text": [
            "87\n",
            "32\n"
          ],
          "name": "stdout"
        }
      ]
    },
    {
      "cell_type": "code",
      "metadata": {
        "id": "uatsaOtE2yNE",
        "colab_type": "code",
        "outputId": "f6129fe8-f1b0-41c7-85ed-50b3cd7e80c5",
        "colab": {
          "base_uri": "https://localhost:8080/",
          "height": 51
        }
      },
      "source": [
        "def smallnum(li):\n",
        "  li.sort()\n",
        "  return li[0]\n",
        "def genricsmall(li,n):\n",
        "  li.sort()\n",
        "  return(li[n-1])\n",
        "li=[19,1,87,32,21,36]\n",
        "print(smallnum(li))\n",
        "print(genricsmall(li,1))"
      ],
      "execution_count": 0,
      "outputs": [
        {
          "output_type": "stream",
          "text": [
            "1\n",
            "1\n"
          ],
          "name": "stdout"
        }
      ]
    },
    {
      "cell_type": "markdown",
      "metadata": {
        "id": "AXZjQZ5l4iee",
        "colab_type": "text"
      },
      "source": [
        "# Tuples\n",
        "- values seprated by comma and enclosed by parathensis.\n",
        "- values cannot be changed i.e immutable.\n",
        "# Difference b/w list and tuple\n",
        "- list can be modified.\n",
        "- used to access means modify,add,delete,update.\n",
        "-tuple cannot be modified.\n",
        "- used to access data only\n"
      ]
    },
    {
      "cell_type": "code",
      "metadata": {
        "id": "zVWYA94W4lhu",
        "colab_type": "code",
        "outputId": "b7847fcd-864c-4712-c9f6-837a15ca739a",
        "colab": {
          "base_uri": "https://localhost:8080/",
          "height": 51
        }
      },
      "source": [
        "t1=(1,2,3,4,5)\n",
        "print(t1)\n",
        "print(type(t1))"
      ],
      "execution_count": 0,
      "outputs": [
        {
          "output_type": "stream",
          "text": [
            "(1, 2, 3, 4, 5)\n",
            "<class 'tuple'>\n"
          ],
          "name": "stdout"
        }
      ]
    },
    {
      "cell_type": "markdown",
      "metadata": {
        "id": "4LlN3ZI486qt",
        "colab_type": "text"
      },
      "source": [
        "# Dictionaries:\n",
        "- It works on concept of set unique data.\n",
        "- It contains keys and values. \n",
        "- Each key is seprated from its values with colon.\n",
        "- Each key values are seprated by comma.\n",
        "- It is enclosed by {}\n"
      ]
    },
    {
      "cell_type": "code",
      "metadata": {
        "id": "RmhJGJhb-LR_",
        "colab_type": "code",
        "outputId": "2b41a455-f15c-4b12-c860-4bd36ad92011",
        "colab": {
          "base_uri": "https://localhost:8080/",
          "height": 34
        }
      },
      "source": [
        "d1={\"name\":\"gitam\",\"email\":\"gitam@gmail.com\",\"address\":\"hyderabad\"}\n",
        "d1"
      ],
      "execution_count": 0,
      "outputs": [
        {
          "output_type": "execute_result",
          "data": {
            "text/plain": [
              "{'address': 'hyderabad', 'email': 'gitam@gmail.com', 'name': 'gitam'}"
            ]
          },
          "metadata": {
            "tags": []
          },
          "execution_count": 86
        }
      ]
    },
    {
      "cell_type": "code",
      "metadata": {
        "id": "yUzBPk5J_2sq",
        "colab_type": "code",
        "outputId": "63f9af22-dbaa-4bf1-97f6-1f98eced218d",
        "colab": {
          "base_uri": "https://localhost:8080/",
          "height": 34
        }
      },
      "source": [
        "d1={\"name\":\"gitam\",\"email\":\"python@gmail.com\",\"address\":\"hyderabad\"}\n",
        "print(d1)"
      ],
      "execution_count": 0,
      "outputs": [
        {
          "output_type": "stream",
          "text": [
            "{'name': 'gitam', 'email': 'python@gmail.com', 'address': 'hyderabad'}\n"
          ],
          "name": "stdout"
        }
      ]
    },
    {
      "cell_type": "code",
      "metadata": {
        "id": "nrC0A4pKBPSg",
        "colab_type": "code",
        "outputId": "c503e110-8384-41f4-e11e-7a52baebc974",
        "colab": {
          "base_uri": "https://localhost:8080/",
          "height": 34
        }
      },
      "source": [
        "d1[' course ']=' python '\n",
        "print(d1)"
      ],
      "execution_count": 0,
      "outputs": [
        {
          "output_type": "stream",
          "text": [
            "{'name': 'gitam', 'email': 'python@gmail.com', 'address': 'hyderabad', ' course ': ' python '}\n"
          ],
          "name": "stdout"
        }
      ]
    },
    {
      "cell_type": "code",
      "metadata": {
        "id": "mZpEHxI1B3hc",
        "colab_type": "code",
        "outputId": "69c2c692-7aad-451e-df29-f7dea2183698",
        "colab": {
          "base_uri": "https://localhost:8080/",
          "height": 34
        }
      },
      "source": [
        "del d1['email']\n",
        "d1"
      ],
      "execution_count": 0,
      "outputs": [
        {
          "output_type": "execute_result",
          "data": {
            "text/plain": [
              "{' course ': ' python ', 'address': 'hyderabad', 'name': 'gitam'}"
            ]
          },
          "metadata": {
            "tags": []
          },
          "execution_count": 89
        }
      ]
    },
    {
      "cell_type": "code",
      "metadata": {
        "id": "SZXS5tPiC8Hn",
        "colab_type": "code",
        "outputId": "0fb0428f-ec46-494e-a093-a09a3f807b23",
        "colab": {
          "base_uri": "https://localhost:8080/",
          "height": 34
        }
      },
      "source": [
        "d1.keys()"
      ],
      "execution_count": 0,
      "outputs": [
        {
          "output_type": "execute_result",
          "data": {
            "text/plain": [
              "dict_keys(['name', 'address', ' course '])"
            ]
          },
          "metadata": {
            "tags": []
          },
          "execution_count": 90
        }
      ]
    },
    {
      "cell_type": "code",
      "metadata": {
        "id": "T6D6BF3BDDHI",
        "colab_type": "code",
        "outputId": "18bb2650-cfc5-45cc-cc2e-ef4d8082ff0f",
        "colab": {
          "base_uri": "https://localhost:8080/",
          "height": 34
        }
      },
      "source": [
        "d1.values()"
      ],
      "execution_count": 0,
      "outputs": [
        {
          "output_type": "execute_result",
          "data": {
            "text/plain": [
              "dict_values(['gitam', 'hyderabad', ' python '])"
            ]
          },
          "metadata": {
            "tags": []
          },
          "execution_count": 91
        }
      ]
    },
    {
      "cell_type": "code",
      "metadata": {
        "id": "Lgb7JXrIDUCg",
        "colab_type": "code",
        "outputId": "482873d3-639e-4db7-c7f0-40e68cd909da",
        "colab": {
          "base_uri": "https://localhost:8080/",
          "height": 34
        }
      },
      "source": [
        "d1.items()"
      ],
      "execution_count": 0,
      "outputs": [
        {
          "output_type": "execute_result",
          "data": {
            "text/plain": [
              "dict_items([('name', 'gitam'), ('address', 'hyderabad'), (' course ', ' python ')])"
            ]
          },
          "metadata": {
            "tags": []
          },
          "execution_count": 92
        }
      ]
    },
    {
      "cell_type": "markdown",
      "metadata": {
        "id": "DknlkgQEDsMw",
        "colab_type": "text"
      },
      "source": [
        "# Strings\n"
      ]
    },
    {
      "cell_type": "code",
      "metadata": {
        "id": "plbNHa_kDvZn",
        "colab_type": "code",
        "outputId": "5273b702-030d-41a8-8d81-2483135631e4",
        "colab": {
          "base_uri": "https://localhost:8080/",
          "height": 50
        }
      },
      "source": [
        "s1='python'\n",
        "print(s1)\n",
        "print(type(s1))"
      ],
      "execution_count": 0,
      "outputs": [
        {
          "output_type": "stream",
          "text": [
            "python\n",
            "<class 'str'>\n"
          ],
          "name": "stdout"
        }
      ]
    },
    {
      "cell_type": "code",
      "metadata": {
        "id": "aaWtqaXTEDn3",
        "colab_type": "code",
        "outputId": "b39ace22-2518-4b32-e351-981d0f5844d3",
        "colab": {
          "base_uri": "https://localhost:8080/",
          "height": 101
        }
      },
      "source": [
        "s1='python'\n",
        "print(s1[0])\n",
        "print(s1[5])\n",
        "print(s1[2:])\n",
        "print(s1[::-1])\n",
        "print(s1[-1::-1])"
      ],
      "execution_count": 0,
      "outputs": [
        {
          "output_type": "stream",
          "text": [
            "p\n",
            "n\n",
            "thon\n",
            "nohtyp\n",
            "nohtyp\n"
          ],
          "name": "stdout"
        }
      ]
    },
    {
      "cell_type": "code",
      "metadata": {
        "id": "lIyEVPCkE6aQ",
        "colab_type": "code",
        "outputId": "1f258135-9beb-4e25-9bfc-e311e78f7280",
        "colab": {
          "base_uri": "https://localhost:8080/",
          "height": 50
        }
      },
      "source": [
        "s1='python'\n",
        "print(s1[len(s1)// 2])\n",
        "print(s1[0:6:3])"
      ],
      "execution_count": 0,
      "outputs": [
        {
          "output_type": "stream",
          "text": [
            "h\n",
            "ph\n"
          ],
          "name": "stdout"
        }
      ]
    },
    {
      "cell_type": "code",
      "metadata": {
        "id": "HSKmfTi3F_iz",
        "colab_type": "code",
        "outputId": "570e967c-6856-42f5-b8db-ccf3e653ec61",
        "colab": {
          "base_uri": "https://localhost:8080/",
          "height": 34
        }
      },
      "source": [
        "# using function reverse of string\n",
        "def revofstring(str):\n",
        "  return str[::-1]\n",
        "\n",
        "revofstring(\"programming\")"
      ],
      "execution_count": 0,
      "outputs": [
        {
          "output_type": "execute_result",
          "data": {
            "text/plain": [
              "'gnimmargorp'"
            ]
          },
          "metadata": {
            "tags": []
          },
          "execution_count": 108
        }
      ]
    },
    {
      "cell_type": "code",
      "metadata": {
        "id": "sD5MmTgJHTj9",
        "colab_type": "code",
        "outputId": "fc5517ad-bde1-4e9c-b321-f3f3d9a3b496",
        "colab": {
          "base_uri": "https://localhost:8080/",
          "height": 34
        }
      },
      "source": [
        "def palindrome(str):\n",
        "  if  str==str[::-1]:\n",
        "    return True\n",
        "  else:\n",
        "    return False\n",
        "palindrome('rotor')"
      ],
      "execution_count": 0,
      "outputs": [
        {
          "output_type": "execute_result",
          "data": {
            "text/plain": [
              "True"
            ]
          },
          "metadata": {
            "tags": []
          },
          "execution_count": 115
        }
      ]
    },
    {
      "cell_type": "markdown",
      "metadata": {
        "id": "WedJcEPDJ5ur",
        "colab_type": "text"
      },
      "source": [
        "# String built in methods:\n",
        "- upper()\n",
        "- lower()\n",
        "- islower()\n",
        "- isupper()\n",
        "- istitle()\n",
        "- isnumeric()\n",
        "- isalpha()\n",
        "- isspace() "
      ]
    },
    {
      "cell_type": "code",
      "metadata": {
        "id": "B56EZoLjKdMs",
        "colab_type": "code",
        "outputId": "89ed9a0c-054b-4791-ac18-d587315db529",
        "colab": {
          "base_uri": "https://localhost:8080/",
          "height": 151
        }
      },
      "source": [
        "s1='Python'\n",
        "print(s1.upper())\n",
        "print(s1.lower())\n",
        "print(s1.isupper())\n",
        "print(s1.islower())\n",
        "print(s1.istitle())\n",
        "print(s1.isnumeric())\n",
        "print(s1.isalpha())\n",
        "print(s1.isspace())"
      ],
      "execution_count": 0,
      "outputs": [
        {
          "output_type": "stream",
          "text": [
            "PYTHON\n",
            "python\n",
            "False\n",
            "False\n",
            "True\n",
            "False\n",
            "True\n",
            "False\n"
          ],
          "name": "stdout"
        }
      ]
    },
    {
      "cell_type": "code",
      "metadata": {
        "id": "G6gIMAcJL8fI",
        "colab_type": "code",
        "outputId": "9164fe6f-4c0a-42ad-afe1-0d7bf7ff6f19",
        "colab": {
          "base_uri": "https://localhost:8080/",
          "height": 34
        }
      },
      "source": [
        "s1='  '\n",
        "print(s1.isspace())"
      ],
      "execution_count": 0,
      "outputs": [
        {
          "output_type": "stream",
          "text": [
            "True\n"
          ],
          "name": "stdout"
        }
      ]
    },
    {
      "cell_type": "markdown",
      "metadata": {
        "id": "IDgganP_OLUN",
        "colab_type": "text"
      },
      "source": [
        "# String methods\n",
        "- join()\n",
        "- split()\n",
        "- replace()"
      ]
    },
    {
      "cell_type": "code",
      "metadata": {
        "id": "_oWGq66SOY8a",
        "colab_type": "code",
        "outputId": "57fab613-a78d-4280-85a2-5a420403b972",
        "colab": {
          "base_uri": "https://localhost:8080/",
          "height": 34
        }
      },
      "source": [
        "s1='python'\n",
        "print(\"@\".join(s1))"
      ],
      "execution_count": 0,
      "outputs": [
        {
          "output_type": "stream",
          "text": [
            "p@y@t@h@o@n\n"
          ],
          "name": "stdout"
        }
      ]
    },
    {
      "cell_type": "code",
      "metadata": {
        "id": "SSsSk9q9O-15",
        "colab_type": "code",
        "outputId": "c96f1ea0-5118-4175-dc9f-cf4d88b28a86",
        "colab": {
          "base_uri": "https://localhost:8080/",
          "height": 34
        }
      },
      "source": [
        "s1='python'\n",
        "print(\",\".join(s1))"
      ],
      "execution_count": 0,
      "outputs": [
        {
          "output_type": "stream",
          "text": [
            "p,y,t,h,o,n\n"
          ],
          "name": "stdout"
        }
      ]
    },
    {
      "cell_type": "code",
      "metadata": {
        "id": "8CZcxl4FPTHr",
        "colab_type": "code",
        "outputId": "63e9a951-33bc-4097-c644-31d9e9a24de1",
        "colab": {
          "base_uri": "https://localhost:8080/",
          "height": 50
        }
      },
      "source": [
        "s1=\"python is easy to learn\"\n",
        "print(s1.split())\n",
        "print(s1.split('a'))"
      ],
      "execution_count": 0,
      "outputs": [
        {
          "output_type": "stream",
          "text": [
            "['python', 'is', 'easy', 'to', 'learn']\n",
            "['python is e', 'sy to le', 'rn']\n"
          ],
          "name": "stdout"
        }
      ]
    },
    {
      "cell_type": "code",
      "metadata": {
        "id": "uefKqxj3Pz7U",
        "colab_type": "code",
        "outputId": "b05fc1fa-a4a8-4374-966a-6dabbac3bb30",
        "colab": {
          "base_uri": "https://localhost:8080/",
          "height": 34
        }
      },
      "source": [
        "s1=\"python is easy to learn\"\n",
        "li=list(s1)\n",
        "print(li,end='   ')"
      ],
      "execution_count": 0,
      "outputs": [
        {
          "output_type": "stream",
          "text": [
            "['p', 'y', 't', 'h', 'o', 'n', ' ', 'i', 's', ' ', 'e', 'a', 's', 'y', ' ', 't', 'o', ' ', 'l', 'e', 'a', 'r', 'n']   "
          ],
          "name": "stdout"
        }
      ]
    },
    {
      "cell_type": "code",
      "metadata": {
        "id": "h1xQbAKnQWsT",
        "colab_type": "code",
        "outputId": "6d34ab14-0c28-4ae9-cdcc-4477f8ecd364",
        "colab": {
          "base_uri": "https://localhost:8080/",
          "height": 34
        }
      },
      "source": [
        "s1=\"python is easy to learn\"\n",
        "print(s1.replace(\"easy\",\"very easy\"))"
      ],
      "execution_count": 0,
      "outputs": [
        {
          "output_type": "stream",
          "text": [
            "python is very easy to learn\n"
          ],
          "name": "stdout"
        }
      ]
    },
    {
      "cell_type": "code",
      "metadata": {
        "id": "-7E1hLctRQbE",
        "colab_type": "code",
        "colab": {}
      },
      "source": [
        "marks={'peter'  :[80,85,90], ;'joe'=[86,90,95]}\n",
        "#output:1.[80,85,90]\n",
        "2.85\n",
        "3.86\n",
        "4.[95,90,86]"
      ],
      "execution_count": 0,
      "outputs": []
    },
    {
      "cell_type": "code",
      "metadata": {
        "id": "ASKpUgvxSF4b",
        "colab_type": "code",
        "outputId": "5e883f2f-4cc9-4a1a-c5ef-7b0c8b0617e9",
        "colab": {
          "base_uri": "https://localhost:8080/",
          "height": 84
        }
      },
      "source": [
        "marks={'peter':[80,85,90], 'joe':[86,90,95]}\n",
        "li=marks['peter']\n",
        "print(li)\n",
        "print(li[1])\n",
        "print(li[2])\n",
        "li[::-1]"
      ],
      "execution_count": 212,
      "outputs": [
        {
          "output_type": "stream",
          "text": [
            "[80, 85, 90]\n",
            "85\n",
            "90\n"
          ],
          "name": "stdout"
        },
        {
          "output_type": "execute_result",
          "data": {
            "text/plain": [
              "[90, 85, 80]"
            ]
          },
          "metadata": {
            "tags": []
          },
          "execution_count": 212
        }
      ]
    },
    {
      "cell_type": "code",
      "metadata": {
        "id": "ywriiD9QUXez",
        "colab_type": "code",
        "colab": {}
      },
      "source": [
        ""
      ],
      "execution_count": 0,
      "outputs": []
    }
  ]
}